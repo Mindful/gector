{
 "cells": [
  {
   "cell_type": "code",
   "execution_count": 2,
   "metadata": {
    "collapsed": true
   },
   "outputs": [
    {
     "name": "stdout",
     "output_type": "stream",
     "text": [
      "Found no pickled data, running data through model\n",
      "Loaded 20 examples\n"
     ]
    },
    {
     "data": {
      "text/plain": "processing batches:   0%|          | 0/1 [00:00<?, ?it/s]",
      "application/vnd.jupyter.widget-view+json": {
       "version_major": 2,
       "version_minor": 0,
       "model_id": "41717796cd264748b9eb36adf6c1756a"
      }
     },
     "metadata": {},
     "output_type": "display_data"
    },
    {
     "data": {
      "text/plain": "processing results:   0%|          | 0/20 [00:00<?, ?it/s]",
      "application/vnd.jupyter.widget-view+json": {
       "version_major": 2,
       "version_minor": 0,
       "model_id": "7dae27463574472e95f4302392c35a61"
      }
     },
     "metadata": {},
     "output_type": "display_data"
    },
    {
     "name": "stderr",
     "output_type": "stream",
     "text": [
      "/home/josh/anaconda3/envs/gector/lib/python3.7/site-packages/sklearn/metrics/classification.py:1143: UndefinedMetricWarning: F-score is ill-defined and being set to 0.0 due to no predicted samples.\n",
      "  'precision', 'predicted', average, warn_for)\n",
      "/home/josh/anaconda3/envs/gector/lib/python3.7/site-packages/sklearn/metrics/classification.py:1143: UndefinedMetricWarning: F-score is ill-defined and being set to 0.0 due to no predicted samples.\n",
      "  'precision', 'predicted', average, warn_for)\n"
     ]
    }
   ],
   "source": [
    "from warnings import simplefilter\n",
    "simplefilter(action='ignore', category=DeprecationWarning)\n",
    "simplefilter(action='ignore', category=FutureWarning)\n",
    "from lit_classes import GeceProdigyData, GectorBertModel, GECE_ERROR_TYPES\n",
    "from attention_analysis import attention_analysis\n",
    "# reuse the LIT classes as they're already packaged for analysis\n",
    "import pickle\n",
    "\n",
    "\n",
    "try:\n",
    "    data_dict = {}\n",
    "    for name in ['pearson', 'argmax', 'regression']:\n",
    "        with open(name+'.pkl', 'rb') as f:\n",
    "            data_dict[name] = pickle.load(f)\n",
    "\n",
    "    pearson = data_dict['pearson']\n",
    "    regression = data_dict['regression']\n",
    "    argmax = data_dict['argmax']\n",
    "    print('Loaded analysis data from pickle files')\n",
    "except FileNotFoundError as ex:\n",
    "    print('Found no pickled data, running data through model')\n",
    "    model = GectorBertModel('bert_0_gector.th')\n",
    "    data = GeceProdigyData('test_sample.jsonl', gece_tags=True)\n",
    "    print('Loaded {} examples'.format(len(data)))\n",
    "    pearson, regression, argmax = attention_analysis(model, data, model.ATTENTION_HEADS,\n",
    "                                                     model.ATTENTION_LAYERS, model.MAX_LEN)\n",
    "\n",
    "    data_and_name = [(pearson, 'pearson'),\n",
    "                       (regression, 'regression'),\n",
    "                       (argmax, 'argmax')]\n",
    "    for data, name in data_and_name:\n",
    "        with open(name+'.pkl', 'wb') as f:\n",
    "            pickle.dump(data, f)"
   ]
  },
  {
   "cell_type": "code",
   "execution_count": 7,
   "outputs": [],
   "source": [
    "pearson_list =[]\n",
    "argmax_list = []\n",
    "regression_list = []\n",
    "\n",
    "for et in GECE_ERROR_TYPES:\n",
    "    pearson_by_layer = pearson[et]\n",
    "    regression_by_layer = regression[et]\n",
    "    argmax_by_layer = argmax[et]\n",
    "\n",
    "    head_total = len(next(iter(argmax_by_layer.values())))\n",
    "    # these should all be the same shape\n",
    "    for layer in argmax_by_layer:\n",
    "        for idx in range(0, head_total):\n",
    "            if idx == head_total - 1:\n",
    "                head = 'head_average'\n",
    "            else:\n",
    "                head = 'head{}'.format(idx)\n",
    "\n",
    "            regression_list.append((regression_by_layer[layer][idx], layer, head, et))\n",
    "            argmax_list.append((argmax_by_layer[layer][idx], layer, head, et))\n",
    "            pearson_list.append((*pearson_by_layer[layer][idx], layer, head, et))\n"
   ],
   "metadata": {
    "collapsed": false,
    "pycharm": {
     "name": "#%%\n"
    }
   }
  },
  {
   "cell_type": "code",
   "execution_count": 8,
   "outputs": [],
   "source": [
    "argmax_list.sort(key=lambda x: x[0], reverse=True)\n",
    "regression_list.sort(key=lambda x: x[0], reverse=True)\n",
    "pearson_list.sort(key=lambda x: x[1])\n",
    "\n",
    "max_tense_regression = max(x for x in regression_list if x[3] == 'TENSE')\n",
    "max_tense_argmax = max(x for x in argmax_list if x[3] == 'TENSE')\n",
    "max_plural_regression = max(x for x in regression_list if x[3] == 'SVA')\n",
    "max_plural_argmax = max(x for x in argmax_list if x[3] == 'SVA')\n",
    "\n",
    "averaged_tense_regression = next(x for x in regression_list\n",
    "if x[3] == 'TENSE' and 'average' in x[1] and 'average' in x[2])\n",
    "averaged_plural_regression = next(x for x in regression_list\n",
    "if x[3] == 'SVA' and 'average' in x[1] and 'average' in x[2])\n",
    "\n",
    "\n",
    "averaged_tense_argmax= next(x for x in argmax_list\n",
    "if x[3] == 'TENSE' and 'average' in x[1] and 'average' in x[2])\n",
    "averaged_plural_argmax = next(x for x in argmax_list\n",
    "if x[3] == 'SVA' and 'average' in x[1] and 'average' in x[2])\n",
    "\n",
    "tense = [x for x in regression_list if x[3] == 'TENSE']"
   ],
   "metadata": {
    "collapsed": false,
    "pycharm": {
     "name": "#%%\n"
    }
   }
  }
 ],
 "metadata": {
  "kernelspec": {
   "display_name": "Python 3",
   "language": "python",
   "name": "python3"
  },
  "language_info": {
   "codemirror_mode": {
    "name": "ipython",
    "version": 2
   },
   "file_extension": ".py",
   "mimetype": "text/x-python",
   "name": "python",
   "nbconvert_exporter": "python",
   "pygments_lexer": "ipython2",
   "version": "2.7.6"
  }
 },
 "nbformat": 4,
 "nbformat_minor": 0
}