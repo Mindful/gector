{
 "cells": [
  {
   "cell_type": "code",
   "execution_count": 4,
   "metadata": {
    "collapsed": true
   },
   "outputs": [
    {
     "data": {
      "text/plain": "processing batches:   0%|          | 0/2 [00:00<?, ?it/s]",
      "application/vnd.jupyter.widget-view+json": {
       "version_major": 2,
       "version_minor": 0,
       "model_id": "217375ac29d4425da8cecfc11c15809a"
      }
     },
     "metadata": {},
     "output_type": "display_data"
    },
    {
     "name": "stdout",
     "output_type": "stream",
     "text": [
      "Inference time 2.0334646701812744\n",
      "Iteration 1. Predicted 100.0% of sentences.\n",
      "Inference time 1.157778024673462\n",
      "Iteration 1. Predicted 100.0% of sentences.\n"
     ]
    },
    {
     "data": {
      "text/plain": "processing results: 0it [00:00, ?it/s]",
      "application/vnd.jupyter.widget-view+json": {
       "version_major": 2,
       "version_minor": 0,
       "model_id": "1fac97d5b9fe4f8ab9788d1e17e38df7"
      }
     },
     "metadata": {},
     "output_type": "display_data"
    }
   ],
   "source": [
    "from lit_classes import Bea2019Data, GectorBertModel, GECE_ERROR_TYPES\n",
    "from attention_analysis import attention_analysis\n",
    "# reuse the LIT classes as they're already packaged for analysis\n",
    "from warnings import simplefilter\n",
    "\n",
    "simplefilter(action='ignore', category=DeprecationWarning)\n",
    "\n",
    "model = GectorBertModel('bert_0_gector.th')\n",
    "data = Bea2019Data('data/test.jsonl', gece_tags=True)\n",
    "pearson, regression, argmax = attention_analysis(model, data, model.ATTENTION_HEADS, model.ATTENTION_LAYERS)"
   ]
  },
  {
   "cell_type": "code",
   "execution_count": null,
   "outputs": [],
   "source": [
    "pearson_lists = {ex: [] for ex in GECE_ERROR_TYPES}\n",
    "regression_list = {ex: [] for ex in GECE_ERROR_TYPES}\n",
    "argmax_list = {ex: [] for ex in GECE_ERROR_TYPES}\n"
   ],
   "metadata": {
    "collapsed": false,
    "pycharm": {
     "name": "#%%\n"
    }
   }
  }
 ],
 "metadata": {
  "kernelspec": {
   "display_name": "Python 3",
   "language": "python",
   "name": "python3"
  },
  "language_info": {
   "codemirror_mode": {
    "name": "ipython",
    "version": 2
   },
   "file_extension": ".py",
   "mimetype": "text/x-python",
   "name": "python",
   "nbconvert_exporter": "python",
   "pygments_lexer": "ipython2",
   "version": "2.7.6"
  }
 },
 "nbformat": 4,
 "nbformat_minor": 0
}